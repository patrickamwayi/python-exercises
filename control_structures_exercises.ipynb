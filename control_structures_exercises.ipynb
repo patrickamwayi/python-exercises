{
 "cells": [
  {
   "cell_type": "code",
   "execution_count": 18,
   "id": "d1b8e3e4",
   "metadata": {},
   "outputs": [
    {
     "name": "stdout",
     "output_type": "stream",
     "text": [
      "what day is today?monday\n",
      "it is monday\n"
     ]
    }
   ],
   "source": [
    "\n",
    " # 1. Conditional Basics\n",
    "\n",
    "# a prompt the user for a day of the week, print out whether the day is Monday or not\n",
    "\n",
    "day_today = input(\"what day is today?\")\n",
    "if day_today == \"monday\":\n",
    "    print(\"it is monday\")\n",
    "else:\n",
    "        print(\"it is not monday\")       \n",
    "        "
   ]
  },
  {
   "cell_type": "code",
   "execution_count": 29,
   "id": "57b8f1b6",
   "metadata": {},
   "outputs": [
    {
     "name": "stdout",
     "output_type": "stream",
     "text": [
      "what day is today?Monday\n",
      "it is weekend\n"
     ]
    }
   ],
   "source": [
    "# b prompt the user for a day of the week, print out whether the day is a weekday or a weekend\n",
    "day_today = input(\"what day is today?\")\n",
    "if day_today == \"saturday\" or \"sunday\":\n",
    "     print('it is weekend')\n",
    "else:\n",
    "        print(\"it is weekday\")\n"
   ]
  },
  {
   "cell_type": "code",
   "execution_count": 32,
   "id": "ffe6fbc9",
   "metadata": {},
   "outputs": [
    {
     "name": "stdout",
     "output_type": "stream",
     "text": [
      "40\n"
     ]
    }
   ],
   "source": [
    "# c create variables and make up values for\n",
    "\n",
    "# the number of hours worked in one week\n",
    "number_of_hours = input(\"40\")\n",
    "if number_of_hours == \"40\":\n",
    "    print(\"number_of_hours\")"
   ]
  },
  {
   "cell_type": "code",
   "execution_count": 33,
   "id": "6ea517a0",
   "metadata": {},
   "outputs": [
    {
     "name": "stdout",
     "output_type": "stream",
     "text": [
      "30\n"
     ]
    }
   ],
   "source": [
    "# the hourly rate\n",
    "hourly_rate = input(\"30\")\n",
    "if hourly_rate == \"30\":\n",
    "    print(\"hourly_rate\")"
   ]
  },
  {
   "cell_type": "code",
   "execution_count": 65,
   "id": "b32d4762",
   "metadata": {},
   "outputs": [
    {
     "name": "stdout",
     "output_type": "stream",
     "text": [
      "how many hours worked?40\n",
      "what is hourly rate?30\n",
      "pay 1200\n"
     ]
    }
   ],
   "source": [
    "# how much the week's paycheck will be\n",
    "hours_worked = int(input(\"how many hours worked?\"))\n",
    "hourly_rate = int(input(\"what is hourly rate?\"))\n",
    "pay = 0\n",
    "if hours_worked <=40:\n",
    "    pay = hours_worked * hourly_rate\n",
    "    print(\"pay\", pay)\n",
    "else:\n",
    "    pay = hours_worked * hourly_rate * 1.5\n",
    "    print(\"pay\" + str(pay))\n"
   ]
  },
  {
   "cell_type": "code",
   "execution_count": 68,
   "id": "8e81535c",
   "metadata": {},
   "outputs": [
    {
     "name": "stdout",
     "output_type": "stream",
     "text": [
      "5\n",
      "6\n",
      "7\n",
      "8\n",
      "9\n",
      "10\n",
      "11\n",
      "12\n",
      "13\n",
      "14\n",
      "15\n"
     ]
    }
   ],
   "source": [
    "# 2 Loop Basics\n",
    "\n",
    "# a. While\n",
    "\n",
    "# Create an integer variable i with a value of 5\n",
    "i = 5\n",
    "\n",
    "# Create a while loop that runs so long as i is less than or equal to 15\n",
    "# Each loop iteration, output the current value of i, then increment i by one.\n",
    "while i <= 15:\n",
    "    print(i)\n",
    "    i+=1    \n",
    "    "
   ]
  },
  {
   "cell_type": "code",
   "execution_count": 69,
   "id": "985eef0d",
   "metadata": {},
   "outputs": [
    {
     "name": "stdout",
     "output_type": "stream",
     "text": [
      "0\n",
      "2\n",
      "4\n",
      "6\n",
      "8\n",
      "10\n",
      "12\n",
      "14\n",
      "16\n",
      "18\n",
      "20\n",
      "22\n",
      "24\n",
      "26\n",
      "28\n",
      "30\n",
      "32\n",
      "34\n",
      "36\n",
      "38\n",
      "40\n",
      "42\n",
      "44\n",
      "46\n",
      "48\n",
      "50\n",
      "52\n",
      "54\n",
      "56\n",
      "58\n",
      "60\n",
      "62\n",
      "64\n",
      "66\n",
      "68\n",
      "70\n",
      "72\n",
      "74\n",
      "76\n",
      "78\n",
      "80\n",
      "82\n",
      "84\n",
      "86\n",
      "88\n",
      "90\n",
      "92\n",
      "94\n",
      "96\n",
      "98\n",
      "100\n"
     ]
    }
   ],
   "source": [
    "# Create a while loop that will count by 2's starting with 0 and ending at 100. Follow each number with a new line.\n",
    "i = 0\n",
    "while i <= 100:\n",
    "    print(i)\n",
    "    i +=2\n",
    "    \n",
    "\n",
    "    "
   ]
  },
  {
   "cell_type": "code",
   "execution_count": 70,
   "id": "62909df9",
   "metadata": {},
   "outputs": [
    {
     "name": "stdout",
     "output_type": "stream",
     "text": [
      "100\n",
      "95\n",
      "90\n",
      "85\n",
      "80\n",
      "75\n",
      "70\n",
      "65\n",
      "60\n",
      "55\n",
      "50\n",
      "45\n",
      "40\n",
      "35\n",
      "30\n",
      "25\n",
      "20\n",
      "15\n",
      "10\n",
      "5\n",
      "0\n",
      "-5\n",
      "-10\n"
     ]
    }
   ],
   "source": [
    "# Alter your loop to count backwards by 5's from 100 to -10.\n",
    "i = 100\n",
    "while i >= -10:\n",
    "    print(i)\n",
    "    i -= 5"
   ]
  },
  {
   "cell_type": "code",
   "execution_count": 73,
   "id": "af9bb108",
   "metadata": {},
   "outputs": [
    {
     "name": "stdout",
     "output_type": "stream",
     "text": [
      "2\n",
      "4\n",
      "16\n",
      "256\n",
      "65536\n"
     ]
    }
   ],
   "source": [
    "# Create a while loop that starts at 2, and displays the number squared on each line while the number is less than\n",
    "# 1000000. Output should equal:\n",
    "i = 2\n",
    "while i < 1000000:\n",
    "    print(i)\n",
    "    i *= i\n",
    "    "
   ]
  },
  {
   "cell_type": "code",
   "execution_count": 74,
   "id": "582579c2",
   "metadata": {},
   "outputs": [
    {
     "name": "stdout",
     "output_type": "stream",
     "text": [
      "100\n",
      "95\n",
      "90\n",
      "85\n",
      "80\n",
      "75\n",
      "70\n",
      "65\n",
      "60\n",
      "55\n",
      "50\n",
      "45\n",
      "40\n",
      "35\n",
      "30\n",
      "25\n",
      "20\n",
      "15\n",
      "10\n",
      "5\n"
     ]
    }
   ],
   "source": [
    "# Write a loop that uses print to create the output shown below\n",
    "i = 100\n",
    "while i > 0:\n",
    "    print(i)\n",
    "    i -=5\n",
    "    \n"
   ]
  },
  {
   "cell_type": "code",
   "execution_count": 75,
   "id": "12a00e86",
   "metadata": {},
   "outputs": [
    {
     "name": "stdout",
     "output_type": "stream",
     "text": [
      "enter a num7\n",
      "7)x 1 = 7\n",
      "7)x 2 = 14\n",
      "7)x 3 = 21\n",
      "7)x 4 = 28\n",
      "7)x 5 = 35\n",
      "7)x 6 = 42\n"
     ]
    }
   ],
   "source": [
    "# 2b\n",
    "# For Loops\n",
    "\n",
    "# i. Write some code that prompts the user for a number, then shows a multiplication table up through 10 for that number.\n",
    "\n",
    "# For example, if the user enters 7, your program should output:\n",
    "num = int(input(\"enter a num\"))\n",
    "for n in range(1, num):\n",
    "    count = int(n)\n",
    "    print(f'{num})x {n} = {num * count}')\n"
   ]
  },
  {
   "cell_type": "code",
   "execution_count": 80,
   "id": "e04cdce6",
   "metadata": {},
   "outputs": [
    {
     "name": "stdout",
     "output_type": "stream",
     "text": [
      "range:10\n",
      "1\n",
      "22\n",
      "333\n",
      "4444\n",
      "55555\n",
      "666666\n",
      "7777777\n",
      "88888888\n",
      "999999999\n"
     ]
    }
   ],
   "source": [
    "# ii. Create a for loop that uses print to create the output shown below.\n",
    "num = int(input('range:'))\n",
    "for n in range (1,num):\n",
    "    print(int(str(n) * n))\n",
    "   \n"
   ]
  },
  {
   "cell_type": "code",
   "execution_count": 84,
   "id": "368a3d44",
   "metadata": {},
   "outputs": [
    {
     "name": "stdout",
     "output_type": "stream",
     "text": [
      "enter odd num range 1 : 50:27\n",
      "odd num:  1\n",
      "odd num:  3\n",
      "odd num:  5\n",
      "odd num:  7\n",
      "odd num:  9\n",
      "odd num:  11\n",
      "odd num:  13\n",
      "odd num:  15\n",
      "odd num:  17\n",
      "odd num:  19\n",
      "odd num:  21\n",
      "odd num:  23\n",
      "odd num:  25\n",
      "! skipping num: 27\n",
      "odd num:  29\n",
      "odd num:  31\n",
      "odd num:  33\n",
      "odd num:  35\n",
      "odd num:  37\n",
      "odd num:  39\n",
      "odd num:  41\n",
      "odd num:  43\n",
      "odd num:  45\n",
      "odd num:  47\n",
      "odd num:  49\n"
     ]
    }
   ],
   "source": [
    "# c.\n",
    "# break and continue\n",
    "\n",
    "# Prompt the user for an odd number between 1 and 50. Use a loop and a break statement to continue prompting the user if they enter invalid input. \n",
    "# (Hint: use the isdigit method on strings to determine this). Use a loop and the continue statement to output all the odd numbers between 1 and 50,\n",
    "# except for the number the user entered.\n",
    "while True:\n",
    "    pos_num = input('enter odd num range 1 : 50:')\n",
    "    if pos_num.isdigit():\n",
    "        if int(pos_num) % 2 == 1 and int(pos_num) <= 50:\n",
    "            break\n",
    "pos_num = int(pos_num)\n",
    "for num in range(1, 50, 2):\n",
    "    if num == pos_num:\n",
    "        print('! skipping num:', num)\n",
    "    else:\n",
    "        print('odd num: ', num)\n",
    "\n"
   ]
  },
  {
   "cell_type": "code",
   "execution_count": 92,
   "id": "9919ca93",
   "metadata": {},
   "outputs": [
    {
     "name": "stdout",
     "output_type": "stream",
     "text": [
      "enter positive numb:8\n",
      "0\n",
      "1\n",
      "2\n",
      "3\n",
      "4\n",
      "5\n",
      "6\n",
      "7\n",
      "8\n"
     ]
    }
   ],
   "source": [
    "# d.\n",
    "# The input function can be used to prompt for input and use that input in your python code. \n",
    "# Prompt the user to enter a positive number and write a loop that counts from 0 to that number. \n",
    "# (Hints: first make sure that the value the user entered is a valid number,\n",
    "# also note that the input function returns a string, so you'll need to convert this to a numeric type.)\n",
    "n = input ('enter positive numb:')\n",
    "if n.isdigit():\n",
    "    n = int (n)\n",
    "    if n > 0:\n",
    "        x = 0\n",
    "        while x <= int (n):\n",
    "            print(x)\n",
    "            x +=1\n",
    "            "
   ]
  },
  {
   "cell_type": "code",
   "execution_count": 100,
   "id": "db75cd37",
   "metadata": {},
   "outputs": [
    {
     "name": "stdout",
     "output_type": "stream",
     "text": [
      "enter positive number:4\n",
      "4\n",
      "3\n",
      "2\n",
      "1\n"
     ]
    }
   ],
   "source": [
    "# d.\n",
    "# Write a program that prompts the user for a positive integer.\n",
    "# Next write a loop that prints out the numbers from the number the user entered down to 1.\n",
    "n = input (\"enter positive number:\")\n",
    "if n.isdigit():\n",
    "    n = int(n)\n",
    "    if n > 0:\n",
    "        x = n\n",
    "        while x > 0:\n",
    "            print(x)\n",
    "            x -=1\n"
   ]
  },
  {
   "cell_type": "code",
   "execution_count": 102,
   "id": "4968d7c1",
   "metadata": {},
   "outputs": [
    {
     "name": "stdout",
     "output_type": "stream",
     "text": [
      "1\n",
      "2\n",
      "3\n",
      "4\n",
      "Fizz\n",
      "6\n",
      "buzz\n",
      "8\n",
      "9\n",
      "Fizz\n",
      "11\n",
      "12\n",
      "13\n",
      "buzz\n",
      "Fizz\n",
      "16\n",
      "17\n",
      "18\n",
      "19\n",
      "Fizz\n",
      "buzz\n",
      "22\n",
      "23\n",
      "24\n",
      "Fizz\n",
      "26\n",
      "27\n",
      "buzz\n",
      "29\n",
      "Fizz\n",
      "31\n",
      "32\n",
      "33\n",
      "34\n",
      "Fizzbuzz\n",
      "36\n",
      "37\n",
      "38\n",
      "39\n",
      "Fizz\n",
      "41\n",
      "buzz\n",
      "43\n",
      "44\n",
      "Fizz\n",
      "46\n",
      "47\n",
      "48\n",
      "buzz\n",
      "Fizz\n",
      "51\n",
      "52\n",
      "53\n",
      "54\n",
      "Fizz\n",
      "buzz\n",
      "57\n",
      "58\n",
      "59\n",
      "Fizz\n",
      "61\n",
      "62\n",
      "buzz\n",
      "64\n",
      "Fizz\n",
      "66\n",
      "67\n",
      "68\n",
      "69\n",
      "Fizzbuzz\n",
      "71\n",
      "72\n",
      "73\n",
      "74\n",
      "Fizz\n",
      "76\n",
      "buzz\n",
      "78\n",
      "79\n",
      "Fizz\n",
      "81\n",
      "82\n",
      "83\n",
      "buzz\n",
      "Fizz\n",
      "86\n",
      "87\n",
      "88\n",
      "89\n",
      "Fizz\n",
      "buzz\n",
      "92\n",
      "93\n",
      "94\n",
      "Fizz\n",
      "96\n",
      "97\n",
      "buzz\n",
      "99\n",
      "Fizz\n"
     ]
    }
   ],
   "source": [
    "# 3.\n",
    "# Fizzbuzz\n",
    "\n",
    "# One of the most common interview questions for entry-level programmers is the FizzBuzz test. \n",
    "# Developed by Imran Ghory, the test is designed to test basic looping and conditional logic skills.\n",
    "\n",
    "# Write a program that prints the numbers from 1 to 100.\n",
    "\n",
    "for item in range(1, 100 + 1):\n",
    "    if (item % 5 == 0) and (item % 7 == 0):\n",
    "        print(\"Fizzbuzz\")\n",
    "    elif item % 5 == 0:\n",
    "        print(\"Fizz\")\n",
    "    elif item % 7 == 0:\n",
    "        print(\"buzz\")\n",
    "    else:\n",
    "        print(item)\n"
   ]
  },
  {
   "cell_type": "code",
   "execution_count": 106,
   "id": "19f99add",
   "metadata": {},
   "outputs": [
    {
     "name": "stdout",
     "output_type": "stream",
     "text": [
      "what number goes up? : 5\n",
      "Table displayed\n",
      "Number Square Cube\n",
      "1   1   1\n",
      "2   4   8\n",
      "3   9   27\n",
      "4   16   64\n",
      "5   25   125\n"
     ]
    }
   ],
   "source": [
    "# 4.\n",
    "# Display a table of powers.\n",
    "\n",
    "# Prompt the user to enter an integer.\n",
    "# Display a table of squares and cubes from 1 to the value entered.\n",
    "# Ask if the user wants to continue.\n",
    "# Assume that the user will enter valid data.\n",
    "# Only continue if the user agrees to.\n",
    "\n",
    "user_num = int(input('what number goes up? : '))\n",
    "print('Table displayed')\n",
    "print('Number', 'Square', 'Cube')\n",
    "i = 1\n",
    "while i <= user_num:\n",
    "    print(i,\" \", i*i,' ',i*i*i)\n",
    "    i +=1\n",
    "\n"
   ]
  },
  {
   "cell_type": "code",
   "execution_count": null,
   "id": "2f0eae54",
   "metadata": {},
   "outputs": [],
   "source": [
    "# 5.\n",
    "# Convert given number grades into letter grades.\n",
    "\n",
    "# Prompt the user for a numerical grade from 0 to 100.\n",
    "# Display the corresponding letter grade.\n",
    "# Prompt the user to continue.\n",
    "# Assume that the user will enter valid integers for the grades.\n",
    "# The application should only continue if the user agrees to.\n",
    "# Grade Ranges:\n",
    "\n",
    "# A : 100 - 88\n",
    "# B : 87 - 80\n",
    "# C : 79 - 67\n",
    "# D : 66 - 60\n",
    "# F : 59 - 0\n",
    "\n",
    "grade = input('enter grade:')\n",
    "grade = int(grade)\n",
    "select = \"Y\"\n",
    "while select == select:\n",
    "    if grade >= '88':\n",
    "        print('A')\n",
    "    elif grade >= '80':\n",
    "        print('B')\n",
    "    elif grade >= '67':\n",
    "        print('C')\n",
    "    elif grade >= '60':\n",
    "        print('D')\n",
    "    else:\n",
    "        print('F')\n",
    "    select = input('user to continue? enter \"Y\"')\n",
    "    if select.lower in 'Y':\n",
    "        continue\n",
    "    else:\n",
    "        break"
   ]
  },
  {
   "cell_type": "code",
   "execution_count": 116,
   "id": "a93f72a4",
   "metadata": {},
   "outputs": [
    {
     "name": "stdout",
     "output_type": "stream",
     "text": [
      "{'title': 'book_one', 'author': 'book_two', 'genre': 'book_three'}\n",
      "{'title': 'book_four', 'author': 'book_five', 'genre': 'poetry'}\n",
      "Enter a genre: poetry\n",
      "title is book_four\n"
     ]
    },
    {
     "data": {
      "text/plain": [
       "{'title': 'book_four', 'author': 'book_five', 'genre': 'poetry'}"
      ]
     },
     "execution_count": 116,
     "metadata": {},
     "output_type": "execute_result"
    }
   ],
   "source": [
    "# 6.\n",
    "# Create a list of dictionaries where each dictionary represents a book that you have read. \n",
    "# Each dictionary in the list should have the keys title, author, and genre. \n",
    "# Loop through the list and print out information about each book.\n",
    "\n",
    "# a.\n",
    "# Prompt the user to enter a genre, then loop through your books list \n",
    "# and print out the titles of all the books in that genre.\n",
    "\n",
    "books = [{'title': 'book_one','author': 'book_two', 'genre':'book_three'},\n",
    "        {'title': 'book_four', 'author': 'book_five' , 'genre': 'poetry'}]\n",
    "\n",
    "for book in books:\n",
    "    print (book)\n",
    "\n",
    "prompt = input(\"Enter a genre: \")\n",
    "for book in books:\n",
    "    if book['genre'] == prompt:\n",
    "        print(f\"title is {(book['title'])}\")\n",
    "{'title': 'book_one', 'author': 'book_two', 'genre': 'book_three'}\n",
    "{'title': 'book_four', 'author': 'book_five', 'genre': 'poetry'}\n"
   ]
  },
  {
   "cell_type": "code",
   "execution_count": null,
   "id": "6592dd46",
   "metadata": {},
   "outputs": [],
   "source": []
  }
 ],
 "metadata": {
  "kernelspec": {
   "display_name": "Python 3 (ipykernel)",
   "language": "python",
   "name": "python3"
  },
  "language_info": {
   "codemirror_mode": {
    "name": "ipython",
    "version": 3
   },
   "file_extension": ".py",
   "mimetype": "text/x-python",
   "name": "python",
   "nbconvert_exporter": "python",
   "pygments_lexer": "ipython3",
   "version": "3.9.12"
  }
 },
 "nbformat": 4,
 "nbformat_minor": 5
}
