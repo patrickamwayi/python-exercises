{
 "cells": [
  {
   "cell_type": "code",
   "execution_count": 2,
   "id": "431842e6",
   "metadata": {},
   "outputs": [],
   "source": [
    "# 1.\n",
    "# Import and test 3 of the functions from your functions exercise file. \n",
    "# Import each function in a different way:\n",
    "from function_exercises import is_vowel\n"
   ]
  },
  {
   "cell_type": "code",
   "execution_count": 4,
   "id": "1ef1a7ac",
   "metadata": {},
   "outputs": [
    {
     "data": {
      "text/plain": [
       "True"
      ]
     },
     "execution_count": 4,
     "metadata": {},
     "output_type": "execute_result"
    }
   ],
   "source": [
    "is_vowel('a')"
   ]
  },
  {
   "cell_type": "code",
   "execution_count": 1,
   "id": "67ad246d",
   "metadata": {},
   "outputs": [],
   "source": [
    "from function_exercises import is_consonant\n"
   ]
  },
  {
   "cell_type": "code",
   "execution_count": 2,
   "id": "8b2b5f3a",
   "metadata": {},
   "outputs": [
    {
     "data": {
      "text/plain": [
       "True"
      ]
     },
     "execution_count": 2,
     "metadata": {},
     "output_type": "execute_result"
    }
   ],
   "source": [
    "is_consonant('G')"
   ]
  },
  {
   "cell_type": "code",
   "execution_count": 5,
   "id": "150f3717",
   "metadata": {},
   "outputs": [
    {
     "data": {
      "text/plain": [
       "'Total amount to tip: $ 20.0'"
      ]
     },
     "execution_count": 5,
     "metadata": {},
     "output_type": "execute_result"
    }
   ],
   "source": [
    "from function_exercises import calculate_tip\n",
    "calculate_tip(100,.20)"
   ]
  },
  {
   "cell_type": "code",
   "execution_count": 9,
   "id": "48a8a26c",
   "metadata": {},
   "outputs": [],
   "source": [
    "# a.\n",
    "# Run an interactive python session and import the module. \n",
    "# Call the is_vowel function using the . syntax.\n",
    "\n",
    "from function_exercises import is_vowel as v\n",
    "\n"
   ]
  },
  {
   "cell_type": "code",
   "execution_count": 10,
   "id": "419ab3fb",
   "metadata": {},
   "outputs": [],
   "source": [
    "\n",
    "from function_exercises import is_vowel as v\n"
   ]
  },
  {
   "cell_type": "code",
   "execution_count": 12,
   "id": "db7656be",
   "metadata": {},
   "outputs": [
    {
     "data": {
      "text/plain": [
       "True"
      ]
     },
     "execution_count": 12,
     "metadata": {},
     "output_type": "execute_result"
    }
   ],
   "source": [
    "function_exercises.is_vowel(\"e\")"
   ]
  },
  {
   "cell_type": "code",
   "execution_count": 10,
   "id": "805f6ab7",
   "metadata": {},
   "outputs": [
    {
     "data": {
      "text/plain": [
       "'Total amount to tip: $ 20.0'"
      ]
     },
     "execution_count": 10,
     "metadata": {},
     "output_type": "execute_result"
    }
   ],
   "source": [
    "# b.\n",
    "# Create a file named import_exericses.py. Within this file, use from to import the calculate_tip function directly. \n",
    "# Call this function with values you choose and print the result.\n",
    "\n",
    "import function_exercises as fe\n",
    "fe.calculate_tip(100,.20)"
   ]
  },
  {
   "cell_type": "code",
   "execution_count": 2,
   "id": "a9e7c9b1",
   "metadata": {
    "scrolled": true
   },
   "outputs": [
    {
     "data": {
      "text/plain": [
       "'B'"
      ]
     },
     "execution_count": 2,
     "metadata": {},
     "output_type": "execute_result"
    }
   ],
   "source": [
    "# c.\n",
    "# Create a jupyter notebook named import_exercises.ipynb. \n",
    "# Use from to import the get_letter_grade function and give it an alias. \n",
    "# Test this function in your notebook.\n",
    "from function_exercises import get_letter_grade\n",
    "get_letter_grade(80)\n"
   ]
  },
  {
   "cell_type": "code",
   "execution_count": 13,
   "id": "9f6b722f",
   "metadata": {},
   "outputs": [],
   "source": [
    "# 2. Read about and use the itertools module from the python standard library \n",
    "# to help you solve the following problems:\n",
    "\n",
    "# - How many different ways can you combine the letters from \"abc\" with the numbers 1, 2, and 3?\n",
    "\n",
    "from itertools import combinations\n",
    "my_list = ['a,b,c,1,2,3']\n",
    "\n",
    "\n",
    "# - How many different combinations are there of 2 letters from \"abcd\"?\n",
    "from itertools import combinations\n",
    "my_list = ['a,b,c,d',2]\n",
    "\n",
    "\n",
    "# - How many different permutations are there of 2 letters from \"abcd\"?\n",
    "\n",
    "from itertools import permutations\n",
    "my_list = ['a,b,c,d',2]"
   ]
  },
  {
   "cell_type": "code",
   "execution_count": 3,
   "id": "7c055665",
   "metadata": {},
   "outputs": [],
   "source": [
    "#3. Save this file as profiles.json inside of your exercises directory (right click -> save file as...).\n",
    "\n",
    "# Use the load function from the json module to open this file.\n",
    "\n",
    "import json\n",
    "\n",
    "profiles = json.load(open('profiles.json'))\n"
   ]
  },
  {
   "cell_type": "code",
   "execution_count": 4,
   "id": "51b60744",
   "metadata": {},
   "outputs": [
    {
     "name": "stdout",
     "output_type": "stream",
     "text": [
      "0\n"
     ]
    }
   ],
   "source": [
    "# Your code should produce a list of dictionaries. \n",
    "# Using this data, write some code that calculates and outputs the following information:\n",
    "\n",
    "# - Total number of users\n",
    "number = 0\n",
    "number_users = len(profiles)\n",
    "print(number)"
   ]
  },
  {
   "cell_type": "code",
   "execution_count": 13,
   "id": "6aa7e866",
   "metadata": {},
   "outputs": [
    {
     "data": {
      "text/plain": [
       "9"
      ]
     },
     "execution_count": 13,
     "metadata": {},
     "output_type": "execute_result"
    }
   ],
   "source": [
    "# - Number of active users\n",
    "\n",
    "count = 0 \n",
    "\n",
    "for profile in profiles:\n",
    "    if profile['isActive'] == True:\n",
    "        count += 1  \n",
    "        \n",
    "count\n",
    "\n"
   ]
  },
  {
   "cell_type": "code",
   "execution_count": 23,
   "id": "2ec91120",
   "metadata": {},
   "outputs": [
    {
     "data": {
      "text/plain": [
       "10"
      ]
     },
     "execution_count": 23,
     "metadata": {},
     "output_type": "execute_result"
    }
   ],
   "source": [
    "# - Number of inactive users\n",
    "count = 0\n",
    "\n",
    "for profile in profiles:\n",
    "    if profile['isActive'] == False:\n",
    "        count +=1\n",
    "count\n"
   ]
  },
  {
   "cell_type": "code",
   "execution_count": 80,
   "id": "471c75ff",
   "metadata": {},
   "outputs": [
    {
     "data": {
      "text/plain": [
       "52667.02"
      ]
     },
     "execution_count": 80,
     "metadata": {},
     "output_type": "execute_result"
    }
   ],
   "source": [
    "# - Grand total of balances for all users\n",
    "\n",
    "total_balance = 0\n",
    "\n",
    "for i in profiles:\n",
    "    new_balance = i[\"balance\"]\n",
    "    new_balance = float(new_balance[1:].replace(\",\" , \"\"))\n",
    "    total_balance += new_balance\n",
    "total_balance"
   ]
  },
  {
   "cell_type": "code",
   "execution_count": 81,
   "id": "ae55d487",
   "metadata": {
    "scrolled": true
   },
   "outputs": [
    {
     "data": {
      "text/plain": [
       "2393.96"
      ]
     },
     "execution_count": 81,
     "metadata": {},
     "output_type": "execute_result"
    }
   ],
   "source": [
    "# - Average balance per user\n",
    "\n",
    "average_balance = 0\n",
    "average_balance = total_balance/len(profile)\n",
    "round(average_balance, 2)"
   ]
  },
  {
   "cell_type": "code",
   "execution_count": 85,
   "id": "7ea18135",
   "metadata": {},
   "outputs": [
    {
     "data": {
      "text/plain": [
       "1214.1"
      ]
     },
     "execution_count": 85,
     "metadata": {},
     "output_type": "execute_result"
    }
   ],
   "source": [
    "# - User with the lowest balance\n",
    "\n",
    "lowest_balance = []\n",
    "\n",
    "for i in profiles:\n",
    "    new_balance = i[\"balance\"]\n",
    "    new_balance = float(new_balance[1:].replace(\",\" , \"\"))\n",
    "    lowest_balance.append(new_balance)\n",
    "    for i in lowest_balance:\n",
    "        min_balance = min(lowest_balance)\n",
    "    \n",
    "round(min_balance, 2)\n",
    "\n"
   ]
  },
  {
   "cell_type": "code",
   "execution_count": null,
   "id": "0a999265",
   "metadata": {},
   "outputs": [],
   "source": []
  }
 ],
 "metadata": {
  "kernelspec": {
   "display_name": "Python 3 (ipykernel)",
   "language": "python",
   "name": "python3"
  },
  "language_info": {
   "codemirror_mode": {
    "name": "ipython",
    "version": 3
   },
   "file_extension": ".py",
   "mimetype": "text/x-python",
   "name": "python",
   "nbconvert_exporter": "python",
   "pygments_lexer": "ipython3",
   "version": "3.9.12"
  }
 },
 "nbformat": 4,
 "nbformat_minor": 5
}
