{
 "cells": [
  {
   "cell_type": "code",
   "execution_count": 18,
   "id": "2b4b9d0d",
   "metadata": {},
   "outputs": [
    {
     "name": "stdout",
     "output_type": "stream",
     "text": [
      "True\n"
     ]
    }
   ],
   "source": [
    "# 1.\n",
    "# Define a function named is_two. \n",
    "#It should accept one input and return True if the passed input is either the number or the string 2, False otherwise.\n",
    "\n",
    "def is_two(my_function):\n",
    "    if type(my_function) == int or type(my_function) == str:\n",
    "        return True\n",
    "    else:\n",
    "        return False\n",
    "\n",
    "print(is_two(\"2\"))"
   ]
  },
  {
   "cell_type": "code",
   "execution_count": 39,
   "id": "6d47f50e",
   "metadata": {},
   "outputs": [
    {
     "data": {
      "text/plain": [
       "False"
      ]
     },
     "execution_count": 39,
     "metadata": {},
     "output_type": "execute_result"
    }
   ],
   "source": [
    "# 2.\n",
    "# Define a function named is_vowel. \n",
    "# It should return True if the passed string is a vowel, False otherwise.\n",
    "\n",
    "def is_vowel(vowels):\n",
    "    if type(vowels) == str:\n",
    "        str_vowel = vowels in ['a', 'e', 'i', 'o', 'u']\n",
    "        return str_vowel\n",
    "    else:\n",
    "        return False\n",
    "is_vowel('f')\n",
    "    "
   ]
  },
  {
   "cell_type": "code",
   "execution_count": 47,
   "id": "9715791d",
   "metadata": {},
   "outputs": [
    {
     "data": {
      "text/plain": [
       "True"
      ]
     },
     "execution_count": 47,
     "metadata": {},
     "output_type": "execute_result"
    }
   ],
   "source": [
    "# 3\n",
    "# Define a function named is_consonant. \n",
    "#It should return True if the passed string is a consonant, False otherwise. \n",
    "# Use your is_vowel function to accomplish this.\n",
    "\n",
    "def is_consonant(str_input):\n",
    "    if type(str_input) == str:\n",
    "        alphabet_letters = str_input.isalpha()\n",
    "        return alphabet_letters  and not is_vowel(str_input)\n",
    "    return False\n",
    "    \n",
    "is_consonant('G')"
   ]
  },
  {
   "cell_type": "code",
   "execution_count": 52,
   "id": "c24c70e8",
   "metadata": {},
   "outputs": [],
   "source": [
    "# 4.\n",
    "# Define a function that accepts a string that is a word. \n",
    "# The function should capitalize the first letter of the word if the word starts with a consonant.\n",
    "\n",
    "def capitalize_constants(input_string):\n",
    "    if type(input_string) == str:\n",
    "        if is _constant(input_string)\n",
    "        return False\n",
    "    first_char = input_string[0]\n",
    "    if is_constant(first_char):\n",
    "        input_string = input_string.capitalize()\n",
    "        return input_string\n",
    "    capitalize_consonants('Good Afternoon')\n",
    "    "
   ]
  },
  {
   "cell_type": "code",
   "execution_count": 14,
   "id": "1f40cb3b",
   "metadata": {},
   "outputs": [
    {
     "name": "stdout",
     "output_type": "stream",
     "text": [
      "Total amount to tip: $ 20.0\n"
     ]
    }
   ],
   "source": [
    "# 5.\n",
    "# Define a function named calculate_tip. \n",
    "# It should accept a tip percentage (a number between 0 and 1) \n",
    "# and the bill total, and return the amount to tip.\n",
    "\n",
    "def calculate_tip(bill,tip):\n",
    "    if tip < 0 or tip > 1:\n",
    "        print(\"tip amount between 0 and 1\")\n",
    "    else:\n",
    "        return (f\"Total amount to tip: $ {bill * tip}\")\n",
    "\n",
    "print(calculate_tip(100,.20))"
   ]
  },
  {
   "cell_type": "code",
   "execution_count": 67,
   "id": "f00264dd",
   "metadata": {},
   "outputs": [
    {
     "data": {
      "text/plain": [
       "('Price including discount: $', (50.60790513833992,))"
      ]
     },
     "execution_count": 67,
     "metadata": {},
     "output_type": "execute_result"
    }
   ],
   "source": [
    "# 6.\n",
    "# Define a function named apply_discount. \n",
    "# It should accept a original price, and a discount percentage, \n",
    "# and return the price after the discount is applied.\n",
    "\n",
    "def apply_discount(original_price, discount_percentage):\n",
    "    discount = (discount_percentage / original_price)\n",
    "    total_price = discount + original_price\n",
    "    return ('Price including discount: $',(total_price,))\n",
    "apply_discount(50.60, 0.4)\n"
   ]
  },
  {
   "cell_type": "code",
   "execution_count": 11,
   "id": "15aea2d8",
   "metadata": {},
   "outputs": [
    {
     "data": {
      "text/plain": [
       "'50,700,500.00'"
      ]
     },
     "execution_count": 11,
     "metadata": {},
     "output_type": "execute_result"
    }
   ],
   "source": [
    "# 7.\n",
    "# Define a function named handle_commas. \n",
    "# It should accept a string that is a number that contains commas in it as input, \n",
    "# and return a number as output.\n",
    "\n",
    "def handle_commas(string_num):\n",
    "    convert_string_to_num = int(string_num)\n",
    "    add_commas = format (convert_string_to_num, ',.2f')\n",
    "    return add_commas\n",
    "handle_commas('50700500')\n",
    "    "
   ]
  },
  {
   "cell_type": "code",
   "execution_count": 24,
   "id": "8028d8d3",
   "metadata": {},
   "outputs": [
    {
     "data": {
      "text/plain": [
       "'A'"
      ]
     },
     "execution_count": 24,
     "metadata": {},
     "output_type": "execute_result"
    }
   ],
   "source": [
    "# 8.\n",
    "# Define a function named get_letter_grade. \n",
    "# It should accept a number and return the letter grade associated with that number (A-F).\n",
    "\n",
    "def get_letter_grade(number_input):\n",
    "    if number_input >= 90 and number_input <= 100:\n",
    "        return \"A\"\n",
    "    elif number_input >= 80 and number_input <= 89:\n",
    "        return \"B\"\n",
    "    elif number_input >= 70 and number_input <=79:\n",
    "        return \"C\"\n",
    "    elif number_input >= 60 and number_input <=69:\n",
    "        return \"D\"\n",
    "    elif number_input >= 50 and number_input <=59:\n",
    "        return \"E\"\n",
    "    else:\n",
    "        return \"F\"\n",
    "    \n",
    "get_letter_grade(95)\n"
   ]
  },
  {
   "cell_type": "code",
   "execution_count": 26,
   "id": "43cd6856",
   "metadata": {},
   "outputs": [
    {
     "data": {
      "text/plain": [
       "'C'"
      ]
     },
     "execution_count": 26,
     "metadata": {},
     "output_type": "execute_result"
    }
   ],
   "source": [
    "get_letter_grade(77)"
   ]
  },
  {
   "cell_type": "code",
   "execution_count": 30,
   "id": "9c09e8f2",
   "metadata": {},
   "outputs": [
    {
     "data": {
      "text/plain": [
       "'mrc'"
      ]
     },
     "execution_count": 30,
     "metadata": {},
     "output_type": "execute_result"
    }
   ],
   "source": [
    "# 9.\n",
    "# Define a function named remove_vowels that accepts a string and returns a string with all the vowels removed.\n",
    "\n",
    "def remove_vowels(word):\n",
    "    vowels = ['a','e','i','o','u']\n",
    "    char = []\n",
    "    for i in word:\n",
    "        if i.lower() not in vowels:\n",
    "            char.append(i)\n",
    "    return \"\".join(char)\n",
    "\n",
    "remove_vowels('america')"
   ]
  },
  {
   "cell_type": "code",
   "execution_count": 2,
   "id": "5656e8c0",
   "metadata": {},
   "outputs": [],
   "source": [
    "# 10.\n",
    "# Define a function named normalize_name. It should accept a string and return a valid python identifier, that is:\n",
    "# anything that is not a valid python identifier should be removed\n",
    "# leading and trailing whitespace should be removed\n",
    "# everything should be lowercase\n",
    "# spaces should be replaced with underscores\n",
    "# for example:\n",
    "# - Name will become name\n",
    "# - First Name will become first_name\n",
    "# - % Completed will become completed\n",
    "\n",
    "def normalize_name (str_in):\n",
    "    data in \"\"\n",
    "    str in str in lower()\n",
    "    for chars in str in():\n",
    "        if chars.isidentifier() or chars():\n",
    "            data in chars\n",
    "        data in data in strip()\n",
    "        data_in = data in replace(''. K)\n",
    "        return data in()\n",
    "    normalize_name('First Name')\n",
    "    "
   ]
  },
  {
   "cell_type": "code",
   "execution_count": 51,
   "id": "c5b22770",
   "metadata": {},
   "outputs": [
    {
     "data": {
      "text/plain": [
       "[1, 2, 3]"
      ]
     },
     "execution_count": 51,
     "metadata": {},
     "output_type": "execute_result"
    }
   ],
   "source": [
    "# 11.\n",
    "# Write a function named cumulative_sum that accepts a list of numbers \n",
    "# and returns a list that is the cumulative sum of the numbers in the list.\n",
    "\n",
    "# cumulative_sum([1, 1, 1]) returns [1, 2, 3]\n",
    "\n",
    "num_list = [1,1,1]\n",
    "import itertools\n",
    "def cumulative_sum(num_list):\n",
    "    return list(itertools.accumulate(num_list))\n",
    "cumulative_sum(num_list)"
   ]
  },
  {
   "cell_type": "code",
   "execution_count": 49,
   "id": "fcab28e5",
   "metadata": {},
   "outputs": [
    {
     "data": {
      "text/plain": [
       "[1, 3, 6, 10]"
      ]
     },
     "execution_count": 49,
     "metadata": {},
     "output_type": "execute_result"
    }
   ],
   "source": [
    "# cumulative_sum([1, 2, 3, 4]) returns [1, 3, 6, 10]\n",
    "\n",
    "num_list = [1,2,3,4]\n",
    "import itertools\n",
    "def cumulative_sum(num_list):\n",
    "    return list(itertools.accumulate(num_list))\n",
    "cumulative_sum(num_list)"
   ]
  },
  {
   "cell_type": "code",
   "execution_count": null,
   "id": "e361b4e8",
   "metadata": {},
   "outputs": [],
   "source": []
  }
 ],
 "metadata": {
  "kernelspec": {
   "display_name": "Python 3 (ipykernel)",
   "language": "python",
   "name": "python3"
  },
  "language_info": {
   "codemirror_mode": {
    "name": "ipython",
    "version": 3
   },
   "file_extension": ".py",
   "mimetype": "text/x-python",
   "name": "python",
   "nbconvert_exporter": "python",
   "pygments_lexer": "ipython3",
   "version": "3.9.12"
  }
 },
 "nbformat": 4,
 "nbformat_minor": 5
}
